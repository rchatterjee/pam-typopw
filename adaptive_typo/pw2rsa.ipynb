{
 "cells": [
  {
   "cell_type": "code",
   "execution_count": 2,
   "metadata": {
    "collapsed": true
   },
   "outputs": [],
   "source": [
    "from Crypto.Protocol.KDF import PBKDF2\n",
    "from Crypto.PublicKey import RSA\n",
    "from Crypto.Hash import SHA256, HMAC\n",
    "import os\n",
    "import pass_to_key; reload(pass_to_key)\n",
    "salt = os.urandom(16)"
   ]
  },
  {
   "cell_type": "code",
   "execution_count": 3,
   "metadata": {
    "collapsed": false
   },
   "outputs": [],
   "source": [
    "priv_k1 = pass_to_key.PwRSAKey.generate(b'Awesomesala', salt, keysize=4096)\n",
    "priv_k2 = pass_to_key.PwRSAKey.generate(b'Awesomesala', salt, keysize=4096)\n",
    "assert priv_k1 == priv_k2, '\\n{}\\n------------------------------\\n{}'.format(repr(priv_k1.p), repr(priv_k2.p))"
   ]
  },
  {
   "cell_type": "code",
   "execution_count": 7,
   "metadata": {
    "collapsed": false
   },
   "outputs": [
    {
     "data": {
      "text/plain": [
       "'Ilvoe this key'"
      ]
     },
     "execution_count": 7,
     "metadata": {},
     "output_type": "execute_result"
    }
   ],
   "source": [
    "from Crypto.Cipher import AES, PKCS1_OAEP\n",
    "\n",
    "s = priv_k1.publickey().exportKey()\n",
    "# This is how we encrypt #\n",
    "\n",
    "cipher_rsa = PKCS1_OAEP.new(RSA.import_key(s))\n",
    "c = cipher_rsa.encrypt('Ilvoe this key')\n",
    "\n",
    "# this is how we decrypt #\n",
    "m = PKCS1_OAEP.new(priv_k1).decrypt(c)\n",
    "m"
   ]
  },
  {
   "cell_type": "code",
   "execution_count": null,
   "metadata": {
    "collapsed": false
   },
   "outputs": [],
   "source": []
  }
 ],
 "metadata": {
  "kernelspec": {
   "display_name": "Python 2",
   "language": "python",
   "name": "python2"
  },
  "language_info": {
   "codemirror_mode": {
    "name": "ipython",
    "version": 2
   },
   "file_extension": ".py",
   "mimetype": "text/x-python",
   "name": "python",
   "nbconvert_exporter": "python",
   "pygments_lexer": "ipython2",
   "version": "2.7.11"
  }
 },
 "nbformat": 4,
 "nbformat_minor": 0
}
