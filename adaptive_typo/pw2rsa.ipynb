{
 "cells": [
  {
   "cell_type": "code",
   "execution_count": 146,
   "metadata": {
    "collapsed": false
   },
   "outputs": [],
   "source": [
    "from Crypto.Protocol.KDF import PBKDF2\n",
    "from Crypto.PublicKey import RSA, ECC\n",
    "from Crypto.Hash import SHA256, HMAC\n",
    "import os\n",
    "import pw_rsa; reload(pw_rsa)\n",
    "salt = os.urandom(16)"
   ]
  },
  {
   "cell_type": "code",
   "execution_count": 138,
   "metadata": {
    "collapsed": false
   },
   "outputs": [],
   "source": [
    "priv_k1 = pw_rsa.PwECCKey.generate(b'Awesomesala', salt, keysize=4096)\n",
    "priv_k2 = pw_rsa.PwECCKey.generate(b'Awesomesala', salt, keysize=4096)\n",
    "assert priv_k1 == priv_k2, '\\n{}\\n------------------------------\\n{}'.format(repr(priv_k1.p), repr(priv_k2.p))"
   ]
  },
  {
   "cell_type": "code",
   "execution_count": 149,
   "metadata": {
    "collapsed": false
   },
   "outputs": [
    {
     "data": {
      "text/plain": [
       "'Hi THere'"
      ]
     },
     "execution_count": 149,
     "metadata": {},
     "output_type": "execute_result"
    }
   ],
   "source": [
    "ctx = pw_rsa.encrypt_with_ecc(priv_k1.public_key(), 'Hi THere')\n",
    "msg = pw_rsa.decrypt_with_ecc(priv_k1, *ctx)\n",
    "msg"
   ]
  },
  {
   "cell_type": "code",
   "execution_count": 135,
   "metadata": {
    "collapsed": false
   },
   "outputs": [
    {
     "data": {
      "text/plain": [
       "'ecdsa-sha2-nistp256 AAAAE2VjZHNhLXNoYTItbmlzdHAyNTYAAAAIbmlzdHAyNTYAAABBBHs+IJL0/PjD/ejRW3U3yED7xekPX/9dEcwE2z7fj+ebPGbWPDabC7PemaHrRr7ccteQvYQTCQOjnT2AHewR1X0=\\n'"
      ]
     },
     "execution_count": 135,
     "metadata": {},
     "output_type": "execute_result"
    }
   ],
   "source": [
    "pubk = priv_k1.public_key()\n",
    "r = ECC.generate(curve='P-256')\n",
    "l = r.pointQ * r.d\n",
    "h = SHA256.new(str(l.x))\n",
    "h.update(str(l.y))\n",
    "r.public_key().export_key(format='OpenSSH')"
   ]
  },
  {
   "cell_type": "code",
   "execution_count": 59,
   "metadata": {
    "collapsed": false
   },
   "outputs": [
    {
     "ename": "TypeError",
     "evalue": "__init__() takes exactly 3 arguments (2 given)",
     "output_type": "error",
     "traceback": [
      "\u001b[0;31m---------------------------------------------------------------------------\u001b[0m",
      "\u001b[0;31mTypeError\u001b[0m                                 Traceback (most recent call last)",
      "\u001b[0;32m<ipython-input-59-a30501e6b0e7>\u001b[0m in \u001b[0;36m<module>\u001b[0;34m()\u001b[0m\n\u001b[1;32m      1\u001b[0m \u001b[0;32mfrom\u001b[0m \u001b[0mcryptography\u001b[0m\u001b[0;34m.\u001b[0m\u001b[0mhazmat\u001b[0m\u001b[0;34m.\u001b[0m\u001b[0mprimitives\u001b[0m\u001b[0;34m.\u001b[0m\u001b[0masymmetric\u001b[0m\u001b[0;34m.\u001b[0m\u001b[0mec\u001b[0m \u001b[0;32mimport\u001b[0m \u001b[0mEllipticCurvePrivateNumbers\u001b[0m\u001b[0;34m\u001b[0m\u001b[0m\n\u001b[0;32m----> 2\u001b[0;31m \u001b[0mEllipticCurvePrivateNumbers\u001b[0m\u001b[0;34m(\u001b[0m\u001b[0mprivate_value\u001b[0m\u001b[0;34m=\u001b[0m\u001b[0mpriv_k1\u001b[0m\u001b[0;34m.\u001b[0m\u001b[0md\u001b[0m\u001b[0;34m)\u001b[0m\u001b[0;34m\u001b[0m\u001b[0m\n\u001b[0m",
      "\u001b[0;31mTypeError\u001b[0m: __init__() takes exactly 3 arguments (2 given)"
     ]
    }
   ],
   "source": [
    "from cryptography.hazmat.primitives.asymmetric.ec import EllipticCurvePrivateNumbers, EllipticCurvePublicNumbers\n",
    "EllipticCurvePrivateNumbers(private_value=priv_k1.d, public_numbers=)"
   ]
  }
 ],
 "metadata": {
  "kernelspec": {
   "display_name": "Python 2",
   "language": "python",
   "name": "python2"
  },
  "language_info": {
   "codemirror_mode": {
    "name": "ipython",
    "version": 2
   },
   "file_extension": ".py",
   "mimetype": "text/x-python",
   "name": "python",
   "nbconvert_exporter": "python",
   "pygments_lexer": "ipython2",
   "version": "2.7.11"
  }
 },
 "nbformat": 4,
 "nbformat_minor": 0
}
