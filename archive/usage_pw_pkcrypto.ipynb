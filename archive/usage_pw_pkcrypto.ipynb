{
 "cells": [
  {
   "cell_type": "code",
   "execution_count": 3,
   "metadata": {
    "collapsed": false
   },
   "outputs": [
    {
     "name": "stdout",
     "output_type": "stream",
     "text": [
      "The secret message!\n"
     ]
    }
   ],
   "source": [
    "from pw_pkcrypto import encrypt, decrypt, derive_public_key, derive_secret_key\n",
    "import os\n",
    "pws = ['password01', 'password02', 'password03']\n",
    "salts = [os.urandom(16) for _ in pws]\n",
    "pk_dict = {i: derive_public_key(pw, sa)[1] for i, (pw, sa) in enumerate(zip(pws, salts))}\n",
    "sk_dict = {i: derive_secret_key(pw, sa)[1] for i, (pw, sa) in enumerate(zip(pws, salts))}\n",
    "\n",
    "msg = 'The secret message!'\n",
    "c = encrypt(pk_dict, msg)\n",
    "m1 = decrypt(dict([sk_dict.popitem()]), c)\n",
    "m2 = decrypt(dict([sk_dict.popitem()]), c)\n",
    "assert m1==m2\n",
    "print m1"
   ]
  }
 ],
 "metadata": {
  "kernelspec": {
   "display_name": "Python 2",
   "language": "python",
   "name": "python2"
  },
  "language_info": {
   "codemirror_mode": {
    "name": "ipython",
    "version": 2
   },
   "file_extension": ".py",
   "mimetype": "text/x-python",
   "name": "python",
   "nbconvert_exporter": "python",
   "pygments_lexer": "ipython2",
   "version": "2.7.6"
  }
 },
 "nbformat": 4,
 "nbformat_minor": 1
}
